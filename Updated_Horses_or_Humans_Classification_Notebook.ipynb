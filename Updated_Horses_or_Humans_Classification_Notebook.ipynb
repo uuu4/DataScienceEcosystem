{
  "cells": [
    {
      "cell_type": "markdown",
      "metadata": {
        "id": "view-in-github",
        "colab_type": "text"
      },
      "source": [
        "<a href=\"https://colab.research.google.com/github/uuu4/DataScienceEcosystem/blob/main/Updated_Horses_or_Humans_Classification_Notebook.ipynb\" target=\"_parent\"><img src=\"https://colab.research.google.com/assets/colab-badge.svg\" alt=\"Open In Colab\"/></a>"
      ]
    },
    {
      "cell_type": "markdown",
      "id": "fcfbe902",
      "metadata": {
        "id": "fcfbe902"
      },
      "source": [
        "# Horses or Humans Classification with TensorFlow\n",
        "Bu çalışma, TensorFlow kullanarak *Horses or Humans* veri setini sınıflandırma problemine odaklanır."
      ]
    },
    {
      "cell_type": "markdown",
      "id": "aec1d27b",
      "metadata": {
        "id": "aec1d27b"
      },
      "source": [
        "### Kütüphanelerin Yüklenmesi\n",
        "TensorFlow, TensorFlow Datasets, Matplotlib gibi gerekli kütüphaneler yükleniyor."
      ]
    },
    {
      "cell_type": "code",
      "execution_count": 1,
      "id": "70ab0ebe",
      "metadata": {
        "id": "70ab0ebe"
      },
      "outputs": [],
      "source": [
        "\n",
        "import tensorflow as tf\n",
        "import tensorflow_datasets as tfds\n",
        "import matplotlib.pyplot as plt\n",
        "import numpy as np\n",
        "from sklearn.metrics import confusion_matrix, ConfusionMatrixDisplay"
      ]
    },
    {
      "cell_type": "markdown",
      "source": [],
      "metadata": {
        "id": "LKkl7GpASjXv"
      },
      "id": "LKkl7GpASjXv"
    },
    {
      "cell_type": "markdown",
      "source": [
        "### Veri setinin indirilmesi\n",
        "Veri seti tensorflow_datasetsten alınmış olup herkesin kullanımına açıktır."
      ],
      "metadata": {
        "id": "-RfKtqasSl25"
      },
      "id": "-RfKtqasSl25"
    },
    {
      "cell_type": "code",
      "source": [
        "# Veri setini indirme ve yükleme\n",
        "ds_train, ds_test = tfds.load(\n",
        "    'horses_or_humans',\n",
        "    split=['train', 'test'],\n",
        "    as_supervised=True\n",
        ")\n"
      ],
      "metadata": {
        "id": "gkymoIalS1T-"
      },
      "id": "gkymoIalS1T-",
      "execution_count": null,
      "outputs": []
    },
    {
      "cell_type": "markdown",
      "source": [
        "Önişleme işlemleri yapılır."
      ],
      "metadata": {
        "id": "c6JBwHvrS5pZ"
      },
      "id": "c6JBwHvrS5pZ"
    },
    {
      "cell_type": "code",
      "source": [
        "# Veri ön işleme\n",
        "def normalize_img(image, label):\n",
        "    image = tf.cast(image, tf.float32) / 255.0\n",
        "    return image, label\n",
        "\n",
        "BATCH_SIZE = 32\n",
        "ds_train = ds_train.map(normalize_img).shuffle(1000).batch(BATCH_SIZE).prefetch(tf.data.AUTOTUNE)\n",
        "ds_test = ds_test.map(normalize_img).batch(BATCH_SIZE).prefetch(tf.data.AUTOTUNE)"
      ],
      "metadata": {
        "id": "vlGYGOUSS8Yz"
      },
      "id": "vlGYGOUSS8Yz",
      "execution_count": 3,
      "outputs": []
    },
    {
      "cell_type": "markdown",
      "source": [
        "### Model Tanımlaması ve Eğitimi\n",
        "Bu hücrede model tanımlaması ve eğitim yapılır, en sonunda binary(ikili) sınıflandırma yapılacaktır.(Atlar ve insanlar)"
      ],
      "metadata": {
        "id": "Nxhhf_YyS-4A"
      },
      "id": "Nxhhf_YyS-4A"
    },
    {
      "cell_type": "code",
      "source": [
        "# Model tanımlama\n",
        "# NOT : Model eğitimi Google Colab ücretsiz sürümü ile yaklaşık 9 dakika sürüyor.\n",
        "model = tf.keras.Sequential([\n",
        "    tf.keras.layers.Conv2D(16, (3,3), activation='relu', input_shape=(300, 300, 3)),\n",
        "    tf.keras.layers.MaxPooling2D(2,2),\n",
        "    tf.keras.layers.Conv2D(32, (3,3), activation='relu'),\n",
        "    tf.keras.layers.MaxPooling2D(2,2),\n",
        "    tf.keras.layers.Conv2D(64, (3,3), activation='relu'),\n",
        "    tf.keras.layers.MaxPooling2D(2,2),\n",
        "    tf.keras.layers.Flatten(),\n",
        "    tf.keras.layers.Dense(128, activation='relu'),\n",
        "    tf.keras.layers.Dense(1, activation='sigmoid')\n",
        "])\n",
        "\n",
        "model.compile(\n",
        "    loss='binary_crossentropy',\n",
        "    optimizer='adam',\n",
        "    metrics=['accuracy']\n",
        ")\n",
        "\n",
        "# Model eğitimi\n",
        "history = model.fit(\n",
        "    ds_train,\n",
        "    epochs=5,\n",
        "    validation_data=ds_test\n",
        ")"
      ],
      "metadata": {
        "id": "buvgBqYmTRTR"
      },
      "id": "buvgBqYmTRTR",
      "execution_count": null,
      "outputs": []
    },
    {
      "cell_type": "markdown",
      "id": "14ef8ff5",
      "metadata": {
        "id": "14ef8ff5"
      },
      "source": [
        "### Confusion Matrix\n",
        "Modelin performansını ölçmek için tahmin edilen değerlerle gerçek değerleri karşılaştırarak bir confusion matrix oluşturulacak."
      ]
    },
    {
      "cell_type": "code",
      "execution_count": null,
      "id": "41361327",
      "metadata": {
        "id": "41361327"
      },
      "outputs": [],
      "source": [
        "\n",
        "# Confusion matrix için tahminler ve gerçek etiketlerin toplanması\n",
        "y_true = []\n",
        "y_pred = []\n",
        "for img, label in ds_test.unbatch().as_numpy_iterator():\n",
        "    img_array = np.expand_dims(img, axis=0)\n",
        "    prediction = model.predict(img_array)[0][0]\n",
        "    predicted_label = 1 if prediction > 0.5 else 0\n",
        "    y_true.append(label)\n",
        "    y_pred.append(predicted_label)"
      ]
    },
    {
      "cell_type": "code",
      "source": [
        "# Confusion matrix hesaplama ve görselleştirme\n",
        "cm = confusion_matrix(y_true, y_pred)\n",
        "disp = ConfusionMatrixDisplay(confusion_matrix=cm, display_labels=[\"Human\", \"Horse\"])\n",
        "disp.plot(cmap='Blues')\n",
        "plt.title(\"Confusion Matrix\")\n",
        "plt.show()\n",
        "# TT, TF, FT, FF değerlerini ekrana yazdırma\n",
        "tn, fp, fn, tp = cm.ravel()\n",
        "print(f\"True Positive (TP): {tp}\")\n",
        "print(f\"False Positive (FP): {fp}\")\n",
        "print(f\"False Negative (FN): {fn}\")\n",
        "print(f\"True Negative (TN): {tn}\")\n"
      ],
      "metadata": {
        "colab": {
          "base_uri": "https://localhost:8080/",
          "height": 537
        },
        "id": "UJ349tnnWKLb",
        "outputId": "890e872d-dbe6-479c-e8f7-88e294b0dda0"
      },
      "id": "UJ349tnnWKLb",
      "execution_count": 9,
      "outputs": [
        {
          "output_type": "display_data",
          "data": {
            "text/plain": [
              "<Figure size 640x480 with 2 Axes>"
            ],
            "image/png": "[encoded data removed]"
          },
          "metadata": {}
        },
        {
          "output_type": "stream",
          "name": "stdout",
          "text": [
            "True Positive (TP): 127\n",
            "False Positive (FP): 56\n",
            "False Negative (FN): 1\n",
            "True Negative (TN): 72\n"
          ]
        }
      ]
    },
    {
      "cell_type": "markdown",
      "id": "4d68d28c",
      "metadata": {
        "id": "4d68d28c"
      },
      "source": [
        "### Sonuçlar ve Analiz\n",
        "Sonuçlar, modelin doğruluğu ve genel performansı üzerinde yorum yapılarak analiz edilecektir."
      ]
    },
    {
      "cell_type": "markdown",
      "id": "84d04ad4",
      "metadata": {
        "id": "84d04ad4"
      },
      "source": [
        "### Ek Metriklerin Hesaplanması\n",
        "Bu hücrede modelin performansını daha iyi anlamak için **accuracy**, **precision**, **recall** ve **F1-score** gibi metrikler hesaplanır."
      ]
    },
    {
      "cell_type": "code",
      "execution_count": 11,
      "id": "5077397a",
      "metadata": {
        "colab": {
          "base_uri": "https://localhost:8080/"
        },
        "id": "5077397a",
        "outputId": "60e5c198-081f-448a-e90f-7ded5b9c5c38"
      },
      "outputs": [
        {
          "output_type": "stream",
          "name": "stdout",
          "text": [
            "Validation Accuracy: 0.7773\n",
            "Precision: 0.6940\n",
            "Recall: 0.9922\n",
            "F1-Score: 0.8167\n"
          ]
        }
      ],
      "source": [
        "\n",
        "from sklearn.metrics import accuracy_score, precision_score, recall_score, f1_score\n",
        "\n",
        "# Validation Accuracy\n",
        "val_accuracy = accuracy_score(y_true, y_pred)\n",
        "print(f\"Validation Accuracy: {val_accuracy:.4f}\")\n",
        "\n",
        "# Precision\n",
        "precision = precision_score(y_true, y_pred, average='binary')\n",
        "print(f\"Precision: {precision:.4f}\")\n",
        "\n",
        "# Recall\n",
        "recall = recall_score(y_true, y_pred, average='binary')\n",
        "print(f\"Recall: {recall:.4f}\")\n",
        "\n",
        "# F1-Score\n",
        "f1 = f1_score(y_true, y_pred, average='binary')\n",
        "print(f\"F1-Score: {f1:.4f}\")\n"
      ]
    },
    {
      "cell_type": "markdown",
      "id": "b02978e0",
      "metadata": {
        "id": "b02978e0"
      },
      "source": [
        "\n",
        "- Modelimiz *Horses or Humans* veri seti üzerinde eğitildi ve test edildi.\n",
        "- Sonuçlara bakıldığında test doğruluğunun makul seviyede olduğu görülüyor.\n",
        "- Confusion Matrix, modelin doğru ve yanlış sınıflandırmalarını görmemizi sağladı.\n",
        "- Daha yüksek doğruluk elde etmek için daha derin bir model, daha fazla epoch ya da veri artırma (data augmentation) gibi yöntemler kullanılabilir.\n"
      ]
    }
  ],
  "metadata": {
    "colab": {
      "provenance": [],
      "include_colab_link": true
    },
    "language_info": {
      "name": "python"
    },
    "kernelspec": {
      "name": "python3",
      "display_name": "Python 3"
    }
  },
  "nbformat": 4,
  "nbformat_minor": 5
}